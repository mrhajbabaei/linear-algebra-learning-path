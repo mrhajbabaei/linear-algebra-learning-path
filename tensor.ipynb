{
 "metadata": {
  "language_info": {
   "codemirror_mode": {
    "name": "ipython",
    "version": 3
   },
   "file_extension": ".py",
   "mimetype": "text/x-python",
   "name": "python",
   "nbconvert_exporter": "python",
   "pygments_lexer": "ipython3",
   "version": "3.8.0-final"
  },
  "orig_nbformat": 2,
  "kernelspec": {
   "name": "python3",
   "display_name": "Python 3.8.0 64-bit",
   "metadata": {
    "interpreter": {
     "hash": "e404b59586357c814bc0d3940e75d6763c00a48753b225b81f7716971b8e1741"
    }
   }
  }
 },
 "nbformat": 4,
 "nbformat_minor": 2,
 "cells": [
  {
   "cell_type": "code",
   "execution_count": 11,
   "metadata": {},
   "outputs": [
    {
     "output_type": "error",
     "ename": "IndentationError",
     "evalue": "unexpected indent (<ipython-input-11-4c9eca63ff6a>, line 25)",
     "traceback": [
      "\u001b[1;36m  File \u001b[1;32m\"<ipython-input-11-4c9eca63ff6a>\"\u001b[1;36m, line \u001b[1;32m25\u001b[0m\n\u001b[1;33m    [[[ 1  2  3  4]\u001b[0m\n\u001b[1;37m    ^\u001b[0m\n\u001b[1;31mIndentationError\u001b[0m\u001b[1;31m:\u001b[0m unexpected indent\n"
     ]
    }
   ],
   "source": [
    "import numpy as np\n",
    "from sympy import preview\n",
    "\n",
    "scalar = 3\n",
    "print(f'Scalar Value:\\n{scalar}\\n')\n",
    "\n",
    "vector = np.array([1,2,3,4,5], dtype=np.int)\n",
    "print(f'Vector Value:\\n{vector}\\n')\n",
    "\n",
    "matrix = np.array([\n",
    "    [1, 2, 3, 4],\n",
    "    [5, 6, 7, 8],\n",
    "    [9, 10, 11, 12],\n",
    "    [13, 14, 15, 16],\n",
    "    [17, 18, 19, 20],\n",
    "])\n",
    "print(f'Matrix Value:\\n{matrix}\\n')\n",
    "\n",
    "tensor = np.array([\n",
    "    np.array(list(range(1, 21))).reshape((5,4)), \n",
    "    np.array(list(range(21, 41))).reshape((5,4)),\n",
    "    np.array(list(range(41, 61))).reshape((5,4)),\n",
    "    ])\n",
    "\n",
    "    [[[ 1  2  3  4]\n",
    "  [ 5  6  7  8]\n",
    "  [ 9 10 11 12]\n",
    "  [13 14 15 16]\n",
    "  [17 18 19 20]]\n",
    "\n",
    " [[21 22 23 24]\n",
    "  [25 26 27 28]\n",
    "  [29 30 31 32]\n",
    "  [33 34 35 36]\n",
    "  [37 38 39 40]]\n",
    "\n",
    " [[41 42 43 44]\n",
    "  [45 46 47 48]\n",
    "  [49 50 51 52]\n",
    "  [53 54 55 56]\n",
    "  [57 58 59 60]]]\n",
    "print(f'Matrix Value:\\n{tensor}\\n')"
   ]
  },
  {
   "cell_type": "code",
   "execution_count": null,
   "metadata": {},
   "outputs": [],
   "source": []
  }
 ]
}