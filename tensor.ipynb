{
 "metadata": {
  "language_info": {
   "codemirror_mode": {
    "name": "ipython",
    "version": 3
   },
   "file_extension": ".py",
   "mimetype": "text/x-python",
   "name": "python",
   "nbconvert_exporter": "python",
   "pygments_lexer": "ipython3",
   "version": "3.8.0-final"
  },
  "orig_nbformat": 2,
  "kernelspec": {
   "name": "python3",
   "display_name": "Python 3.8.0 64-bit",
   "metadata": {
    "interpreter": {
     "hash": "e404b59586357c814bc0d3940e75d6763c00a48753b225b81f7716971b8e1741"
    }
   }
  }
 },
 "nbformat": 4,
 "nbformat_minor": 2,
 "cells": [
  {
   "cell_type": "code",
   "execution_count": 4,
   "metadata": {},
   "outputs": [
    {
     "output_type": "stream",
     "name": "stdout",
     "text": [
      "Scalar Value:\n3\n\nVector Value:\n[1 2 3 4 5]\n\nMatrix Value:\n[[ 1  2  3  4]\n [ 5  6  7  8]\n [ 9 10 11 12]\n [13 14 15 16]\n [17 18 19 20]]\n\n"
     ]
    }
   ],
   "source": [
    "import numpy as np\n",
    "\n",
    "\n",
    "scalar = 3\n",
    "print(f'Scalar Value:\\n{scalar}\\n')\n",
    "\n",
    "vector = np.array([1,2,3,4,5], dtype=np.int)\n",
    "print(f'Vector Value:\\n{vector}\\n')\n",
    "\n",
    "matrix = np.array([\n",
    "    [1, 2, 3, 4],\n",
    "    [5, 6, 7, 8],\n",
    "    [9, 10, 11, 12],\n",
    "    [13, 14, 15, 16],\n",
    "    [17, 18, 19, 20],\n",
    "])\n",
    "print(f'Matrix Value:\\n{matrix}\\n')\n",
    "\n",
    "tensor = np.concatenate([np.array(list(range(1, 21))).reshape((5,4)), np.array(list(range(21, 41))).reshape((5,4)))]\n",
    "print(f'Matrix Value:\\n{matrix}\\n')"
   ]
  },
  {
   "cell_type": "code",
   "execution_count": null,
   "metadata": {},
   "outputs": [],
   "source": []
  }
 ]
}